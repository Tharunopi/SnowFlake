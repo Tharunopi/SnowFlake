{
 "cells": [
  {
   "cell_type": "code",
   "execution_count": 0,
   "metadata": {
    "application/vnd.databricks.v1+cell": {
     "cellMetadata": {
      "byteLimit": 2048000,
      "rowLimit": 10000
     },
     "inputWidgets": {},
     "nuid": "44fafebe-ffaa-4531-9022-f8a2c742cd8a",
     "showTitle": false,
     "tableResultSettingsMap": {},
     "title": ""
    }
   },
   "outputs": [],
   "source": [
    "options = {\n",
    "    \"sfURL\": \"DQYZILX-ZU27027.snowflakecomputing.com\",\n",
    "    \"sfDatabase\": \"THARUN_LEARNING\",\n",
    "    \"sfSchema\": \"DAY_1\",\n",
    "    \"sfWarehouse\": \"THARUN\",\n",
    "    \"sfRole\": \"SYSADMIN\",\n",
    "    \"sfUser\": \"tharun\",\n",
    "    \"sfPassword\": \"Pubg123456789@\"\n",
    "}\n",
    "df = spark.read.format(\"snowflake\").options(**options).option(\"dbtable\", \"SALES\").load()\n",
    "df.show()\n",
    " \n",
    " "
   ]
  }
 ],
 "metadata": {
  "application/vnd.databricks.v1+notebook": {
   "computePreferences": {
    "hardware": {
     "accelerator": null,
     "gpuPoolId": null,
     "memory": null
    }
   },
   "dashboards": [],
   "environmentMetadata": {
    "base_environment": "",
    "environment_version": "4"
   },
   "inputWidgetPreferences": null,
   "language": "python",
   "notebookMetadata": {
    "pythonIndentUnit": 4
   },
   "notebookName": "snowflake_connection",
   "widgets": {}
  },
  "language_info": {
   "name": "python"
  }
 },
 "nbformat": 4,
 "nbformat_minor": 0
}
